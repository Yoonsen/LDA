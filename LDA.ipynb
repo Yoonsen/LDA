{
 "cells": [
  {
   "cell_type": "code",
   "execution_count": 5,
   "id": "5a874b57-1020-45fe-a5dc-e3ac681b15c0",
   "metadata": {},
   "outputs": [],
   "source": [
    "import dhlab as dh\n",
    "import pandas as pd"
   ]
  },
  {
   "cell_type": "code",
   "execution_count": 28,
   "id": "6a8d5d90-35d5-4338-add0-ef012887b08c",
   "metadata": {},
   "outputs": [],
   "source": [
    "corpus = dh.Corpus(doctype=\"digavis\", from_year=1990, to_year=2000, limit = 100).frame"
   ]
  },
  {
   "cell_type": "code",
   "execution_count": 31,
   "id": "e8f2c04b-f5a6-4723-bdea-faa69bf72844",
   "metadata": {},
   "outputs": [
    {
     "name": "stderr",
     "output_type": "stream",
     "text": [
      "/tmp/ipykernel_1539120/3028571355.py:1: FutureWarning: Series.__getitem__ treating keys as positions is deprecated. In a future version, integer keys will always be treated as labels (consistent with DataFrame behavior). To access a value by position, use `ser.iloc[pos]`\n",
      "  chnk = dh.Chunks(urn = corpus.urn[0], chunks=500)\n"
     ]
    }
   ],
   "source": [
    "chnk = dh.Chunks(urn = corpus.urn[0], chunks=500)"
   ]
  },
  {
   "cell_type": "code",
   "execution_count": 33,
   "id": "8b9c3531-ce6e-4966-975b-9ec13c61fe96",
   "metadata": {},
   "outputs": [
    {
     "data": {
      "text/plain": [
       "43"
      ]
     },
     "execution_count": 33,
     "metadata": {},
     "output_type": "execute_result"
    }
   ],
   "source": [
    "len(chnk.chunks)"
   ]
  },
  {
   "cell_type": "markdown",
   "id": "5243f964-2031-4b85-9cbc-75d3a14d1cdc",
   "metadata": {},
   "source": [
    "# Stoppordliste"
   ]
  },
  {
   "cell_type": "code",
   "execution_count": 43,
   "id": "4a9f0074-de86-4de6-af1c-62cb11c5fce0",
   "metadata": {},
   "outputs": [],
   "source": [
    "tot = dh.totals(5000)"
   ]
  },
  {
   "cell_type": "code",
   "execution_count": 87,
   "id": "fdd4e010-6931-405d-b05c-4c95b242ed45",
   "metadata": {},
   "outputs": [],
   "source": [
    "stoppord = list(tot[tot.freq > 20000000].index)"
   ]
  },
  {
   "cell_type": "code",
   "execution_count": 88,
   "id": "48f82f55-0a5a-43f6-b13a-9bef1ed9e3e8",
   "metadata": {},
   "outputs": [
    {
     "data": {
      "text/plain": [
       "'., ,, i, og, -, er, til, det, :, som, på, av, for, en, med, at, ), å, (, har, », den, de, «, ikke, —, var, \\', om, fra, /, I, et, 1, Det, *, han, ?, !, ^, kan, seg, 2, vi, \", ;, r, ved, vil, 3, men, så, ■, jeg, hadde, skal, ble, eller, •, år, også, |, 4, a, over, ut, etter, der, være, 5, kr, blir, du, m, De, >, dette, da, kl., alle, Men, s, Vi, 6, man, Han, f, hun, må, sin, Jeg, opp, denne, to, Den, mot, andre, &, 10, 0, A, \\\\, e, få, Tlf, ~, 8, paa, ha, 7, inn, bli, En, sier, 9, t, noe, bare, nå, mange, enn, kunne, under, dag, af, <, l, vært, Og, noen, S, når, før, kom, oss, sa, går, %, dem, 12, ©, får, nye, mer, Oslo, her, 11, ham, meg, hvor, hele, 1., 20, store, slik, j, H, sig, n, 15, M, J, kommer, „, v, første, godt, B, skulle, fikk, sine, For, kroner, hans, mellom, alt, ta, tid, Norge, disse, gang, ville, V, stor, flere, o, Dette, igjen, se, siste, ein, 2., –, ¦, siden, samme, 30, T, E, nok, dei, ingen, ned, £, R, meget, no, sitt, 14, Hun, del, 18, pr., god, tre, gikk, sammen, helt, 16, 50, 000, På, §, +, 13, både, deg, uten, hos, =, Da, [, 00, ser, hver, litt, mye, hva, 17, blitt, the, ny, pa, ], vel, gjøre, blev, gå, ..., W, seiv, 22, d, 19, norske, si, komme, gjennom, 25, g, 3., ikkje, fått, The, fram, vår, ’, nu, of, annet, ei, k, folk, 21, Til, mens, gamle, tilbake, måtte, ca., gode, Fra, jo, efter, henne, K, rundt, P, _, tok, min, står, barn, O, Ved, Kl, Et, gi, gjort, Am, gir, 18.00, tatt, 40, b, N, tidligere, la, mest, 100, langt, frå, mener, gjør, hvis, bør, C, tar, annen, like, 19.00, mann, selv, Med, Norsk, Etter, derfor, grunn, L, 4., gjelder, 23, større, blant, side, 20.00, km, Alle, Du, 24, mindre, Kr, viser, ligger, Når, Her, c, saa, sett, and, $, F, fordi, Bergen, °, Dagsnytt, vet, 60, p, in, D, bedre, land, beste, eit, Nå, tlf., satt, Så, Som, plass, stort, tiden, 5., mulig, nytt, videre, hatt, rett, 80, kveld, Å, innen, prosent, norsk, dager, be, aldri, 19.30, nr., ønsker, heller, kanskje, gjorde, forhold, først, samt, landet, lørdag, Der, imidlertid, møte, dagen, x, 70, tror, v., egen, hvordan, 17.00, våre, 35, 33, holdt, frem, kommet, ”, Hans, lite, 55, millioner, #, ®, Hva, liten, A/S, deres, mai, hvert, 21.00, 26, 6., arbeidet, w, fire, u, U, senere, saken, allerede, 90, 28, verden, y, liv, 27, Av, alltid, 16.00, søndag, ting, ofte, Norges, Man, 32, arbeid, begge, ti, Ja, kommune, finne, Telefon, måte, Denne, eg, 8., fredag, 7., viktig, bort, juni, bra, neste, vart, største, Ikke, kun, ord, rekke, synes, par, mennesker, hennes, tillegg, 31'"
      ]
     },
     "execution_count": 88,
     "metadata": {},
     "output_type": "execute_result"
    }
   ],
   "source": [
    "', '.join(stoppord)"
   ]
  },
  {
   "cell_type": "markdown",
   "id": "ea56a9b4-18d9-4617-95f3-ebbb1a1a9ef3",
   "metadata": {},
   "source": [
    "# Kode for å lage"
   ]
  },
  {
   "cell_type": "code",
   "execution_count": 24,
   "id": "a6578e53-00ce-4e0d-97d7-b21bfa28afba",
   "metadata": {},
   "outputs": [],
   "source": [
    "def synthetic_texts(chunks, sep = \" \"):\n",
    "    \"\"\"From a frequency list, generate a dummy text that can be tokenized by splitting on blanks, given that it comes from\n",
    "    a tokenized text\"\"\"\n",
    "    texts = []\n",
    "    for chunk in chunks:\n",
    "        # each word is repeated as often as it occurs in the chunk\n",
    "        texts.append(''.join([f\"{sep}{key}\"*int(chunk[key]) for key in chunk]))\n",
    "    return texts\n",
    "        \n",
    "            "
   ]
  },
  {
   "cell_type": "markdown",
   "id": "0964a949-d015-43d6-8bf4-e833a2d35e75",
   "metadata": {},
   "source": [
    "# Lagre tekstene"
   ]
  },
  {
   "cell_type": "code",
   "execution_count": 35,
   "id": "9d606945-c4fc-4689-ab61-1ad6de1a3316",
   "metadata": {},
   "outputs": [],
   "source": [
    "st = synthetic_texts(chnk.chunks, sep= \" \")"
   ]
  },
  {
   "cell_type": "code",
   "execution_count": 40,
   "id": "37cc8b20-42d6-4045-9f1a-f77f2bf87a1d",
   "metadata": {},
   "outputs": [],
   "source": [
    "for i,t in enumerate(st):\n",
    "    with open(f\"avis_{i}.txt\",\"w\" ) as fp:\n",
    "        fp.write(t)"
   ]
  },
  {
   "cell_type": "code",
   "execution_count": null,
   "id": "ecafbb36-58b1-4a5d-a5ae-37c8087c53bd",
   "metadata": {},
   "outputs": [],
   "source": []
  }
 ],
 "metadata": {
  "kernelspec": {
   "display_name": "Python 3 (ipykernel)",
   "language": "python",
   "name": "python3"
  },
  "language_info": {
   "codemirror_mode": {
    "name": "ipython",
    "version": 3
   },
   "file_extension": ".py",
   "mimetype": "text/x-python",
   "name": "python",
   "nbconvert_exporter": "python",
   "pygments_lexer": "ipython3",
   "version": "3.11.5"
  }
 },
 "nbformat": 4,
 "nbformat_minor": 5
}
